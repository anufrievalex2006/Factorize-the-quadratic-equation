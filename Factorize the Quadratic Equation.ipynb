{
 "cells": [
  {
   "cell_type": "code",
   "execution_count": 10,
   "metadata": {},
   "outputs": [
    {
     "data": {
      "text/plain": [
       "'2(x - 1)(x - 2)'"
      ]
     },
     "execution_count": 10,
     "metadata": {},
     "output_type": "execute_result"
    }
   ],
   "source": [
    "def answer(a, n, m):\n",
    "    if a == 1:\n",
    "        if n < 0:\n",
    "            if m < 0:\n",
    "                return f'(x + {-n})(x + {-m})'\n",
    "            else:\n",
    "                return f'(x + {-n})(x - {m})'\n",
    "        else:\n",
    "            if m < 0:\n",
    "                return f'(x - {n})(x + {-m})'\n",
    "            else:\n",
    "                return f'(x - {n})(x - {m})'\n",
    "    else:\n",
    "        if n < 0:\n",
    "            if m < 0:\n",
    "                return f'{a}(x + {-n})(x + {-m})'\n",
    "            else:\n",
    "                return f'{a}(x + {-n})(x - {m})'\n",
    "        else:\n",
    "            if m < 0:\n",
    "                return f'{a}(x - {n})(x + {-m})'\n",
    "            else:\n",
    "                return f'{a}(x - {n})(x - {m})'\n",
    "\n",
    "def factorize(a, b, c):\n",
    "    # ax^2 + bx + c => [n, m] -> a(x - n)(x - m)\n",
    "    for n in range(-100, 101):\n",
    "        for m in range(-100, 101):\n",
    "            if (n + m == -round(b/a, 1)) and (n * m == round(c/a, 1)):\n",
    "                return answer(a, n, m)\n",
    "    return 'Impossible'\n",
    "\n",
    "factorize(2, -6, 4)"
   ]
  }
 ],
 "metadata": {
  "kernelspec": {
   "display_name": "Python 3.11.1 64-bit",
   "language": "python",
   "name": "python3"
  },
  "language_info": {
   "codemirror_mode": {
    "name": "ipython",
    "version": 3
   },
   "file_extension": ".py",
   "mimetype": "text/x-python",
   "name": "python",
   "nbconvert_exporter": "python",
   "pygments_lexer": "ipython3",
   "version": "3.11.1"
  },
  "orig_nbformat": 4,
  "vscode": {
   "interpreter": {
    "hash": "e993b55ef17ca2b14e700304c69059a161d85f2ab4a61e537a37ab8c54d34007"
   }
  }
 },
 "nbformat": 4,
 "nbformat_minor": 2
}
