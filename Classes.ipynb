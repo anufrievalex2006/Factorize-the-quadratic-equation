{
 "cells": [
  {
   "cell_type": "code",
   "execution_count": 4,
   "metadata": {},
   "outputs": [],
   "source": [
    "from math import sqrt\n",
    "\n",
    "class Point:\n",
    "    def __init__(self,x,y):\n",
    "        self.x = x\n",
    "        self.y = y\n",
    "    def len_from_center(self):\n",
    "        return sqrt(self.x**2 + self.y**2)\n",
    "\n",
    "class Vector(Point):\n",
    "    def __init__(self, x0, y0, x, y):\n",
    "        self.x0 = x0\n",
    "        self.y0 = y0\n",
    "        super().__init__(x, y)\n",
    "    def length(self):\n",
    "        return sqrt((self.y-self.y0)**2 + (self.x-self.x0)**2)"
   ]
  }
 ],
 "metadata": {
  "kernelspec": {
   "display_name": "Python 3.11.1 64-bit",
   "language": "python",
   "name": "python3"
  },
  "language_info": {
   "codemirror_mode": {
    "name": "ipython",
    "version": 3
   },
   "file_extension": ".py",
   "mimetype": "text/x-python",
   "name": "python",
   "nbconvert_exporter": "python",
   "pygments_lexer": "ipython3",
   "version": "3.11.1"
  },
  "orig_nbformat": 4,
  "vscode": {
   "interpreter": {
    "hash": "e993b55ef17ca2b14e700304c69059a161d85f2ab4a61e537a37ab8c54d34007"
   }
  }
 },
 "nbformat": 4,
 "nbformat_minor": 2
}
